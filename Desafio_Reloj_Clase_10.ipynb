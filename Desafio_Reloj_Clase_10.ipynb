{
  "nbformat": 4,
  "nbformat_minor": 0,
  "metadata": {
    "colab": {
      "provenance": [],
      "authorship_tag": "ABX9TyNdINfNJIaVpdbpx1i4qq0M",
      "include_colab_link": true
    },
    "kernelspec": {
      "name": "python3",
      "display_name": "Python 3"
    },
    "language_info": {
      "name": "python"
    }
  },
  "cells": [
    {
      "cell_type": "markdown",
      "metadata": {
        "id": "view-in-github",
        "colab_type": "text"
      },
      "source": [
        "<a href=\"https://colab.research.google.com/github/nestoraorlando/CoderHouse/blob/main/Desafio_Reloj_Clase_10.ipynb\" target=\"_parent\"><img src=\"https://colab.research.google.com/assets/colab-badge.svg\" alt=\"Open In Colab\"/></a>"
      ]
    },
    {
      "cell_type": "markdown",
      "source": [
        "# Desafio Reloj\n",
        "Realiza una función que dependiendo de los parámetros que reciba: convierta a segundos o a horas.  \n",
        "- Si recibe un argumento, supone que son segundos y convierte a horas, minutos y segundos.\n",
        "- Si recibe 3 argumentos, supone que son hora, minutos y segundos y los convierte a segundos."
      ],
      "metadata": {
        "id": "4GLTCYEDFgYd"
      }
    },
    {
      "cell_type": "code",
      "execution_count": null,
      "metadata": {
        "id": "tfwb3h2IFe9a"
      },
      "outputs": [],
      "source": [
        "# Definimos una fn que retorna hh:mm:ss.ss si se ingresa segundos\n",
        "# y retorna seundos si se ingres hh:mm:ss\n",
        "\n",
        "def reloj(*argumento):\n",
        "  if len(argumento) == 1:\n",
        "    segundos = argumento[0]\n",
        "    horas = int(segundos / 3600)\n",
        "    minutos = (segundos/3600-horas) * 60\n",
        "    segundos = (minutos - int(minutos)) * 60\n",
        "    return f\"{horas}:{int(minutos)}:{round(segundos,0)}\"\n",
        "\n",
        "  else:\n",
        "    segundos = argumento[0] * 3600 + argumento [1] * 60 + argumento [2]\n",
        "    return segundos\n",
        "\n",
        "print(reloj(1,23,20))\n",
        "print(reloj(5000))\n"
      ]
    }
  ]
}