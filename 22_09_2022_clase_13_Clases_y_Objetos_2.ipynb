{
  "nbformat": 4,
  "nbformat_minor": 0,
  "metadata": {
    "colab": {
      "provenance": [],
      "collapsed_sections": [],
      "include_colab_link": true
    },
    "kernelspec": {
      "name": "python3",
      "display_name": "Python 3"
    },
    "language_info": {
      "name": "python"
    }
  },
  "cells": [
    {
      "cell_type": "markdown",
      "metadata": {
        "id": "view-in-github",
        "colab_type": "text"
      },
      "source": [
        "<a href=\"https://colab.research.google.com/github/nestoraorlando/CoderHouse/blob/main/22_09_2022_clase_13_Clases_y_Objetos_2.ipynb\" target=\"_parent\"><img src=\"https://colab.research.google.com/assets/colab-badge.svg\" alt=\"Open In Colab\"/></a>"
      ]
    },
    {
      "cell_type": "markdown",
      "source": [],
      "metadata": {
        "id": "Tl7PKBxBmmrf"
      }
    },
    {
      "cell_type": "markdown",
      "source": [
        "# Clase - User-defined types\n",
        "Asi como veniamos utilizando `types/tipos` propios de Python nosotros mediante clases podemos crear los nuestros. \n",
        "\n",
        "Supongamos que queremos crear un type Persona, la cual representaría una abstracción de una Persona de la vida real. Podemos utilizar el siguiente codigo python para ello. \n",
        "\n",
        "[>>Mas info<<](https://greenteapress.com/thinkpython2/html/thinkpython2016.html#sec178)"
      ],
      "metadata": {
        "id": "uDF5dWOsIODw"
      }
    },
    {
      "cell_type": "code",
      "source": [
        "class Persona:\n",
        "  pass"
      ],
      "metadata": {
        "id": "EqwZYcfAINu2"
      },
      "execution_count": null,
      "outputs": []
    },
    {
      "cell_type": "markdown",
      "source": [
        "# Objeto - Instancia de clases\n",
        "Las instancias de clases son los objetos que creamos en base a las clases. \n",
        "\n",
        "Un objeto tiene una identidad propia, es decir dos instancias de la misma clase `no son lo mismo` pero son del mismo `type`."
      ],
      "metadata": {
        "id": "8pEw6s9oJbki"
      }
    },
    {
      "cell_type": "code",
      "source": [
        "pedro = Persona()\n",
        "juan = Persona()\n",
        "juancito = juan"
      ],
      "metadata": {
        "id": "9IgU6kp5JqlZ"
      },
      "execution_count": null,
      "outputs": []
    },
    {
      "cell_type": "code",
      "source": [
        "pedro is juan"
      ],
      "metadata": {
        "id": "bJlIDMz8J51A"
      },
      "execution_count": null,
      "outputs": []
    },
    {
      "cell_type": "code",
      "source": [
        "juan is juancito"
      ],
      "metadata": {
        "id": "G_H-o6-Xhbv6"
      },
      "execution_count": null,
      "outputs": []
    },
    {
      "cell_type": "code",
      "source": [
        "isinstance(pedro, Persona)"
      ],
      "metadata": {
        "id": "a7wVfpHeJ_lf"
      },
      "execution_count": null,
      "outputs": []
    },
    {
      "cell_type": "code",
      "source": [
        "isinstance(juan, Persona)"
      ],
      "metadata": {
        "id": "303H1E9uKH9b"
      },
      "execution_count": null,
      "outputs": []
    },
    {
      "cell_type": "code",
      "source": [
        "isinstance(1, Persona)"
      ],
      "metadata": {
        "id": "-8LZDYKQgwtw"
      },
      "execution_count": null,
      "outputs": []
    },
    {
      "cell_type": "code",
      "source": [
        "type(pedro)"
      ],
      "metadata": {
        "id": "Lr23tJVlg5eI"
      },
      "execution_count": null,
      "outputs": []
    },
    {
      "cell_type": "markdown",
      "source": [
        "# Self - Uno Mismo\n",
        "Es una variable que representa la instancia de la clase, y deberá estar siempre ahí.\n"
      ],
      "metadata": {
        "id": "k_uMW8K8vcGc"
      }
    },
    {
      "cell_type": "code",
      "source": [
        "class Persona:\n",
        "  def __init__(self, nombre): # metodo constructor\n",
        "    self.nombre = nombre\n",
        "\n",
        "  def print_uno_mismo(self):\n",
        "    print(self)"
      ],
      "metadata": {
        "id": "Gcv9R9ofvayG"
      },
      "execution_count": null,
      "outputs": []
    },
    {
      "cell_type": "markdown",
      "source": [],
      "metadata": {
        "id": "KIyzL2Erkhz8"
      }
    },
    {
      "cell_type": "code",
      "source": [
        "persona_1 = Persona(\"German\")"
      ],
      "metadata": {
        "id": "nbmCezQR9v3g"
      },
      "execution_count": null,
      "outputs": []
    },
    {
      "cell_type": "code",
      "source": [
        "persona_1.print_uno_mismo()"
      ],
      "metadata": {
        "id": "dMBgjoTY90Wg"
      },
      "execution_count": null,
      "outputs": []
    },
    {
      "cell_type": "code",
      "source": [
        "print(persona_1)"
      ],
      "metadata": {
        "id": "FxGv3rRT97jE"
      },
      "execution_count": null,
      "outputs": []
    },
    {
      "cell_type": "markdown",
      "source": [
        "# Atributos\n",
        "- **Atributos de clase:** Se trata de atributos que pertenecen a la clase, por lo tanto serán comunes para todos los objetos.\n",
        "\n",
        "- **Atributos de instancia:** Pertenecen a la instancia de la clase o al objeto. Son atributos particulares de cada instancia, en nuestro caso de cada persona.\n"
      ],
      "metadata": {
        "id": "MBTEJbZ6Ho3Q"
      }
    },
    {
      "cell_type": "code",
      "execution_count": null,
      "metadata": {
        "id": "hoxHPRjnHoAx"
      },
      "outputs": [],
      "source": [
        "class Persona:\n",
        "  idioma = \"Castellano\" # Atributo de clase - afecta a todas\n",
        "                            # las instancias/objetos\n",
        "  \n",
        "  def __init__(self, nombre, apellido):\n",
        "    self.nombre = nombre # Atributo de instancia/objeto,\n",
        "                         # solo afecta a la instancia.\n",
        "    self.apellido = apellido\n",
        "  \n",
        "  def print_idioma(self):\n",
        "    print(Persona.idioma)\n",
        "                                    \n",
        "\n",
        "  def presentarse(self):\n",
        "    if Persona.idioma.lower() == \"castellano\":\n",
        "      print(f\"Hola Soy, {self.nombre}, {self.apellido}\")\n",
        "    elif Persona.idioma.lower() == \"portugues\":\n",
        "      print(f\"Eu sou, {self.nombre}, {self.apellido}\")\n",
        "  \n",
        "  "
      ]
    },
    {
      "cell_type": "code",
      "source": [
        "persona_1 = Persona(\"German\", \"Martinez\")\n",
        "persona_2 = Persona(\"Juna\", \"Paredes\")"
      ],
      "metadata": {
        "id": "7nMIEBVBOVXo"
      },
      "execution_count": null,
      "outputs": []
    },
    {
      "cell_type": "code",
      "source": [
        "persona_1.print_idioma()\n",
        "persona_2.print_idioma()"
      ],
      "metadata": {
        "id": "DSo-u5hESlbM"
      },
      "execution_count": null,
      "outputs": []
    },
    {
      "cell_type": "code",
      "source": [
        "persona_1.presentarse()"
      ],
      "metadata": {
        "id": "Yuiydu3bovns"
      },
      "execution_count": null,
      "outputs": []
    },
    {
      "cell_type": "markdown",
      "source": [
        "## Cuidado por que al cambiar un atributo de clase, afecta a todos las instancias."
      ],
      "metadata": {
        "id": "kwBmPGkwSPYW"
      }
    },
    {
      "cell_type": "code",
      "source": [
        "Persona.idioma = \"Portugues\""
      ],
      "metadata": {
        "id": "pEELTdxZSYKJ"
      },
      "execution_count": null,
      "outputs": []
    },
    {
      "cell_type": "code",
      "source": [
        "persona_1.print_idioma()\n",
        "persona_2.print_idioma()"
      ],
      "metadata": {
        "id": "T9o_8-WmR189"
      },
      "execution_count": null,
      "outputs": []
    },
    {
      "cell_type": "markdown",
      "source": [
        "## Desafio\n",
        "\n",
        "Basado en la clase Persona, complete con:\n",
        "- Un atributo de clase\n",
        "- Un atributo de instacia \n",
        "- Defina un método que use los anteriores.\n"
      ],
      "metadata": {
        "id": "snzRNpZ7SHYy"
      }
    },
    {
      "cell_type": "code",
      "source": [
        "class Persona:\n",
        "  __idioma = \"Castellano\" \n",
        "  # agregue aqui un nuevo att de clase \n",
        "\n",
        "  def __init__(self, nombre, apellido):\n",
        "    self.nombre = nombre\n",
        "    self.apellido = apellido\n",
        "    # agregue aqui un nuevo att de instancia\n",
        "  \n",
        "  def print_idioma(self):\n",
        "    print(Persona.idioma)\n",
        "\n",
        "  def presentarse(self):\n",
        "    print(f\"Hola Soy, {self.nombre}, {self.apellido}\")\n",
        "  \n",
        "  # agregue aqui un nuevo método"
      ],
      "metadata": {
        "id": "qXzSoLOy3uIU"
      },
      "execution_count": null,
      "outputs": []
    },
    {
      "cell_type": "markdown",
      "source": [
        "# Encapsulamiento\n",
        "\n",
        "Es un concepto relacionado con la programación orientada a objetos, y hace referencia al ocultamiento de los estados internos de una clase al exterior. Dicho de otra manera, `encapsular consiste en hacer que los atributos o métodos internos a una clase no se puedan acceder ni modificar desde fuera`, sino que tan solo el propio objeto pueda acceder a ellos.\n",
        "\n",
        "\n",
        "`Modo Privado`: Solo la clase puede tener accesso. Python. Se pone un doble _ `__name` delante del attributo.\n",
        "\n",
        "[Decoardor Property](https://ellibrodepython.com/decorador-property-python#decorador-property)"
      ],
      "metadata": {
        "id": "bhm4gX1DxIft"
      }
    },
    {
      "cell_type": "code",
      "source": [
        "import datetime\n",
        "from dateutil.relativedelta import relativedelta\n",
        "\n",
        "class Persona:\n",
        "  __idioma = \"Castellano\" # Atributo de clase - afecta a todas - Modo Privado\n",
        "                            # las instancias/objetos\n",
        "  \n",
        "  def __init__(self, nombre, apellido, fecha_nacimiento):\n",
        "    self.nombre = nombre # Atributo de instancia/objeto,\n",
        "                         # solo afecta a la instancia.\n",
        "    self.apellido = apellido\n",
        "    self.__fecha_nacimiento = fecha_nacimiento #  Modo Privado\n",
        "  \n",
        "  def print_idioma(self):\n",
        "    print(self.__idioma) #  Name mangling - Modo Privado\n",
        "                                    \n",
        "\n",
        "  def presentarse(self):\n",
        "    print(f\"Hola Soy, {self.nombre}, {self.apellido} y tengo {self.edad}\")\n",
        "  \n",
        "  @property\n",
        "  def edad(self):\n",
        "    return relativedelta(datetime.date.today(), self.__formatear_fecha_nacimiento())\n",
        "  \n",
        "  def __formatear_fecha_nacimiento(self):\n",
        "      return datetime.datetime.strptime(self.__fecha_nacimiento, \"%d/%m/%Y\")\n",
        "    \n",
        "  def print_self(self):\n",
        "    print(self)"
      ],
      "metadata": {
        "id": "LkaaT3PTwnlr"
      },
      "execution_count": null,
      "outputs": []
    },
    {
      "cell_type": "code",
      "source": [
        "persona_1 = Persona(\"German\", \"Martinez\", \"1/1/2000\")\n",
        "persona_2 = Persona(\"Juna\", \"Paredes\", datetime.date(2020,1,1))"
      ],
      "metadata": {
        "id": "PCTXaVg_x9JT"
      },
      "execution_count": null,
      "outputs": []
    },
    {
      "cell_type": "code",
      "source": [
        "persona_1.print_idioma()\n",
        "persona_2.print_idioma()"
      ],
      "metadata": {
        "id": "fEMcmyhkx_t2",
        "colab": {
          "base_uri": "https://localhost:8080/"
        },
        "outputId": "393d6a57-6e48-4436-f21c-ae947a7a4e52"
      },
      "execution_count": null,
      "outputs": [
        {
          "output_type": "stream",
          "name": "stdout",
          "text": [
            "Castellano\n",
            "Castellano\n"
          ]
        }
      ]
    },
    {
      "cell_type": "code",
      "source": [
        "persona_1.edad"
      ],
      "metadata": {
        "id": "HX2BwfeU_BBo",
        "colab": {
          "base_uri": "https://localhost:8080/"
        },
        "outputId": "8c12ec6e-3e67-4638-a573-6cde7b3d2c9f"
      },
      "execution_count": null,
      "outputs": [
        {
          "output_type": "execute_result",
          "data": {
            "text/plain": [
              "relativedelta(years=+22, months=+8, days=+20)"
            ]
          },
          "metadata": {},
          "execution_count": 57
        }
      ]
    },
    {
      "cell_type": "code",
      "source": [
        "dir(persona_1)"
      ],
      "metadata": {
        "id": "NMgDpEWY8DQ9",
        "colab": {
          "base_uri": "https://localhost:8080/"
        },
        "outputId": "94161a6d-398c-4ea2-c2ce-c9167589d100"
      },
      "execution_count": null,
      "outputs": [
        {
          "output_type": "execute_result",
          "data": {
            "text/plain": [
              "['_Persona__fecha_nacimiento',\n",
              " '_Persona__formatear_fecha_nacimiento',\n",
              " '_Persona__idioma',\n",
              " '__class__',\n",
              " '__delattr__',\n",
              " '__dict__',\n",
              " '__dir__',\n",
              " '__doc__',\n",
              " '__eq__',\n",
              " '__format__',\n",
              " '__ge__',\n",
              " '__getattribute__',\n",
              " '__gt__',\n",
              " '__hash__',\n",
              " '__init__',\n",
              " '__init_subclass__',\n",
              " '__le__',\n",
              " '__lt__',\n",
              " '__module__',\n",
              " '__ne__',\n",
              " '__new__',\n",
              " '__reduce__',\n",
              " '__reduce_ex__',\n",
              " '__repr__',\n",
              " '__setattr__',\n",
              " '__sizeof__',\n",
              " '__str__',\n",
              " '__subclasshook__',\n",
              " '__weakref__',\n",
              " 'apellido',\n",
              " 'edad',\n",
              " 'nombre',\n",
              " 'presentarse',\n",
              " 'print_idioma',\n",
              " 'print_self']"
            ]
          },
          "metadata": {},
          "execution_count": 58
        }
      ]
    },
    {
      "cell_type": "code",
      "source": [
        "dir(1)"
      ],
      "metadata": {
        "id": "uo6yapW2yQ8y"
      },
      "execution_count": null,
      "outputs": []
    },
    {
      "cell_type": "code",
      "source": [
        "persona_1._Persona__fecha_nacimiento"
      ],
      "metadata": {
        "id": "mbKzzFXp5a-A"
      },
      "execution_count": null,
      "outputs": []
    },
    {
      "cell_type": "code",
      "source": [
        "persona_2._Persona__fecha_nacimiento"
      ],
      "metadata": {
        "id": "nJLyS8lM5x9c"
      },
      "execution_count": null,
      "outputs": []
    },
    {
      "cell_type": "markdown",
      "source": [
        "# Clase Anidadas\n",
        "\n",
        "Definir una clase dentro de otra clase. Es raro ver este tipo de implementación pero la finalidad es poder tener en un solo lugar todo lo que nuestra clase contenedora necesita. Es como tener un tipo de dato solo para esa clase."
      ],
      "metadata": {
        "id": "7Pq9_MBny8d-"
      }
    },
    {
      "cell_type": "code",
      "source": [
        "#outer class\n",
        "class ControlRemoto:\n",
        "  \n",
        " \n",
        "  def __init__(self, dispositivo):\n",
        "    self.dipositivo = dispositivo\n",
        "    self.__baterias = [ControlRemoto.Bateria(\"AA\",1.5), ControlRemoto.Bateria(\"AA\", 1.5)]\n",
        "\n",
        "  def print_caracteristicas(self):\n",
        "    print(self.__dict__)\n",
        "\n",
        "  #inner class  \n",
        "  class Bateria:\n",
        "    def __init__(self, tipo, voltage):\n",
        "      self.tipo = tipo\n",
        "      self.voltage = voltage\n",
        "\n",
        "#other class\n",
        "class Television:\n",
        "    def __init__(self, modelo):\n",
        "     self.modelo = modelo \n",
        "    \n",
        "    def __str__(self):\n",
        "      return f\"Modelo:{self.modelo}\"\n"
      ],
      "metadata": {
        "id": "3YSjw2hV0fyU"
      },
      "execution_count": null,
      "outputs": []
    },
    {
      "cell_type": "code",
      "source": [
        "television = Television(\"samsung-cc22\")\n",
        "control_remoto = ControlRemoto(television)\n",
        "\n",
        "control_remoto.print_caracteristicas()\n",
        "\n",
        "print(television)\n"
      ],
      "metadata": {
        "id": "X-EyJhKW1yD6"
      },
      "execution_count": null,
      "outputs": []
    },
    {
      "cell_type": "markdown",
      "source": [
        "# Metodos especiales"
      ],
      "metadata": {
        "id": "jFrVDUuQHoCj"
      }
    },
    {
      "cell_type": "code",
      "source": [
        "class Persona:\n",
        "\n",
        "  def __init__(self, nombre, apellido, edad):\n",
        "    self.nombre = nombre\n",
        "    self.apellido = apellido\n",
        "    self.edad = edad\n",
        "  \n",
        "  def __eq__(self, otra_persona):\n",
        "    return self.edad == otra_persona.edad\n",
        "\n",
        "  def __gt__(self, otra_persona):\n",
        "    return self.edad > otra_persona.edad\n",
        "\n",
        "  def __lt__(self, otra_persona):\n",
        "    return self.edad < otra_persona.edad\n",
        "  \n",
        "  def __str__(self):\n",
        "    return(f\"Nombre:{self.nombre}, Apellido:{self.apellido}, Edad:{self.edad}\")\n",
        "  \n",
        "\n",
        "class GrupoPersonas:\n",
        "  \n",
        "  def __init__(self, *args):\n",
        "    self.integrantes = list(args)\n",
        "    self.cantidad = len(self.integrantes) \n",
        "\n",
        "  def __getitem__(self, pos):\n",
        "    return self.integrantes[pos]\n",
        "  \n",
        "  def __setitem__(self, pos, value):\n",
        "    self.integrantes[pos] = value\n",
        "  \n",
        "  def __delitem__(self, pos):\n",
        "    del self.integrantes[pos]\n",
        "    self.cantidad -= 1\n",
        "  \n",
        "  def append(self, persona):\n",
        "    self.integrantes.append(persona)\n",
        "    self.cantidad += 1\n",
        "  \n",
        "  def __add__(self, otro_grupo):\n",
        "    suma_grupos = self.integrantes + otro_grupo.integrantes\n",
        "    return GrupoPersonas(*suma_grupos)\n",
        "\n",
        "  def __iter__(self):\n",
        "    return self.integrantes.__iter__()\n",
        "\n"
      ],
      "metadata": {
        "id": "PLcMDqPqHqcD"
      },
      "execution_count": null,
      "outputs": []
    },
    {
      "cell_type": "code",
      "source": [
        "juan = Persona(\"Juan\", \"Mirelez\", 12)\n",
        "pedro = Persona(\"Pedro\", \"Sanchez\", 15)\n",
        "camila = Persona(\"Camila\", \"Rogel\", 12)\n",
        "estefania = Persona(\"Estefania\", \"Romero\", 15)\n",
        "\n",
        "grupo_hombres = GrupoPersonas(juan, pedro)\n",
        "grupo_mujeres = GrupoPersonas(camila, estefania)"
      ],
      "metadata": {
        "id": "5keydObNOxMe"
      },
      "execution_count": null,
      "outputs": []
    },
    {
      "cell_type": "code",
      "source": [
        "print(grupo_hombres.cantidad)\n",
        "grupo_hombres.append(Persona(\"Roberto\", \"Galan\", 90))\n",
        "print(grupo_hombres.cantidad)"
      ],
      "metadata": {
        "colab": {
          "base_uri": "https://localhost:8080/"
        },
        "id": "oclktsEOPshv",
        "outputId": "7674470d-0b0b-4be4-8463-09b3045c0895"
      },
      "execution_count": null,
      "outputs": [
        {
          "output_type": "stream",
          "name": "stdout",
          "text": [
            "2\n",
            "3\n"
          ]
        }
      ]
    },
    {
      "cell_type": "code",
      "source": [
        "grupo_total = grupo_hombres + grupo_mujeres\n",
        "len(grupo_total.integrantes)"
      ],
      "metadata": {
        "colab": {
          "base_uri": "https://localhost:8080/"
        },
        "id": "1WiE-sOAR30f",
        "outputId": "d3443d28-b45f-4b7a-c4c9-efcf5bf0995d"
      },
      "execution_count": null,
      "outputs": [
        {
          "output_type": "execute_result",
          "data": {
            "text/plain": [
              "5"
            ]
          },
          "metadata": {},
          "execution_count": 13
        }
      ]
    },
    {
      "cell_type": "code",
      "source": [
        "for integrante in grupo_total:\n",
        "  print(integrante.nombre)"
      ],
      "metadata": {
        "colab": {
          "base_uri": "https://localhost:8080/"
        },
        "id": "rJpew_SVUyx6",
        "outputId": "de096cc7-eb1d-4b41-e290-1498fb3ab097"
      },
      "execution_count": null,
      "outputs": [
        {
          "output_type": "stream",
          "name": "stdout",
          "text": [
            "Juan\n",
            "Pedro\n",
            "Roberto\n",
            "Camila\n",
            "Estefania\n"
          ]
        }
      ]
    },
    {
      "cell_type": "code",
      "source": [
        "personas = [juan, pedro, camila, estefania]\n",
        "print(\"----------IMPRIME POR ORDER DE CARGA-------------\")\n",
        "for persona in personas:\n",
        "  print(persona)\n",
        "\n",
        "print(\"----------IMPRIME POR EDAD ASCENDENTE-------------\")\n",
        "personas.sort()\n",
        "for persona in personas:\n",
        "  print(persona)\n",
        "\n",
        "print(\"----------IMPRIME POR EDAD DESCENDENTE-------------\")\n",
        "personas.sort(reverse=True)\n",
        "for persona in personas:\n",
        "  print(persona)"
      ],
      "metadata": {
        "colab": {
          "base_uri": "https://localhost:8080/"
        },
        "id": "J_WMHuDtgvRS",
        "outputId": "a4d15220-5467-44c5-a625-8c166599761b"
      },
      "execution_count": null,
      "outputs": [
        {
          "output_type": "stream",
          "name": "stdout",
          "text": [
            "----------IMPRIME POR ORDER DE CARGA-------------\n",
            "Nombre:Juan, Apellido:Mirelez, Edad:12\n",
            "Nombre:Pedro, Apellido:Sanchez, Edad:15\n",
            "Nombre:Camila, Apellido:Rogel, Edad:12\n",
            "Nombre:Estefania, Apellido:Romero, Edad:15\n",
            "----------IMPRIME POR EDAD ASCENDENTE-------------\n",
            "Nombre:Juan, Apellido:Mirelez, Edad:12\n",
            "Nombre:Camila, Apellido:Rogel, Edad:12\n",
            "Nombre:Pedro, Apellido:Sanchez, Edad:15\n",
            "Nombre:Estefania, Apellido:Romero, Edad:15\n",
            "----------IMPRIME POR EDAD DESCENDENTE-------------\n",
            "Nombre:Pedro, Apellido:Sanchez, Edad:15\n",
            "Nombre:Estefania, Apellido:Romero, Edad:15\n",
            "Nombre:Juan, Apellido:Mirelez, Edad:12\n",
            "Nombre:Camila, Apellido:Rogel, Edad:12\n"
          ]
        }
      ]
    }
  ]
}