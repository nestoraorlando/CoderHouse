{
  "nbformat": 4,
  "nbformat_minor": 0,
  "metadata": {
    "colab": {
      "provenance": [],
      "authorship_tag": "ABX9TyOZwuvdStfVNMDMobI07rEi",
      "include_colab_link": true
    },
    "kernelspec": {
      "name": "python3",
      "display_name": "Python 3"
    },
    "language_info": {
      "name": "python"
    }
  },
  "cells": [
    {
      "cell_type": "markdown",
      "metadata": {
        "id": "view-in-github",
        "colab_type": "text"
      },
      "source": [
        "<a href=\"https://colab.research.google.com/github/nestoraorlando/CoderHouse/blob/main/Desaf%C3%ADo_entregable_5_(Clase_9_y_10)_Nestor_Orlando.ipynb\" target=\"_parent\"><img src=\"https://colab.research.google.com/assets/colab-badge.svg\" alt=\"Open In Colab\"/></a>"
      ]
    },
    {
      "cell_type": "markdown",
      "source": [
        "#Desafío entregable 5 (Clase 9 y 10)\n",
        "\n",
        "##\"Funciones\"\n",
        "\n",
        "1) Realiza una función llamada area_rectangulo() que devuelva el área del rectángulo a partir de una base y una altura. Calcula el área de un rectángulo de 15 de base y 10 de altura.-\n",
        "\n",
        "\n",
        "🖐 Ayuda: El área de un rectángulo se obtiene al multiplicar la base por la altura."
      ],
      "metadata": {
        "id": "5pDMuDUvJ3-2"
      }
    },
    {
      "cell_type": "code",
      "execution_count": 8,
      "metadata": {
        "colab": {
          "base_uri": "https://localhost:8080/"
        },
        "id": "8rrJ9NLyJmii",
        "outputId": "015abc32-6102-41cb-90cb-f4881357fbd5"
      },
      "outputs": [
        {
          "output_type": "stream",
          "name": "stdout",
          "text": [
            "Vamos a calcular el área de un cuadrilátero: \n",
            "Por favor ingresa la base: 15\n",
            "Por favor ingresa la altura: 10\n",
            "El área es 150\n"
          ]
        },
        {
          "output_type": "execute_result",
          "data": {
            "text/plain": [
              "150"
            ]
          },
          "metadata": {},
          "execution_count": 8
        }
      ],
      "source": [
        "def area_rectangulo(base, altura):\n",
        "    \n",
        "    return base * altura\n",
        "\n",
        "print (\"Vamos a calcular el área de un cuadrilátero: \")\n",
        "base = int(input (\"Por favor ingresa la base: \"))\n",
        "altura = int(input (\"Por favor ingresa la altura: \"))\n",
        "print(f\"El área es {area_rectangulo(base,altura)}\")\n",
        "area_rectangulo(15,10)"
      ]
    },
    {
      "cell_type": "markdown",
      "source": [
        "---\n",
        "\n",
        "2) Realiza una función llamada area_circulo() que devuelva el área de un círculo a partir de un radio. \n",
        "Calcula el área de un círculo de 5 de radio.-\n",
        "\n",
        "🖐 Ayuda: El área de un círculo se obtiene al elevar el radio a dos y multiplicando el resultado por el número pi. Puedes utilizar el valor 3.14159 como pi o importarlo del módulo math.\n"
      ],
      "metadata": {
        "id": "3K3snY_eNzzU"
      }
    },
    {
      "cell_type": "code",
      "source": [
        "import math\n",
        "\n",
        "pi = math.pi\n",
        "\n",
        "def area_circulo(radio):\n",
        "    return pi * radio**2\n",
        "print (\"Vamos a calcular el área de un círculo: \")\n",
        "radio = int(input (\"Por favor ingresa el radio: \"))\n",
        "\n",
        "print(f\"El área de un círculo de radio {radio} es {area_circulo(radio)}\")\n",
        "area_circulo(5)"
      ],
      "metadata": {
        "colab": {
          "base_uri": "https://localhost:8080/"
        },
        "id": "TuSNZ56JN2_q",
        "outputId": "b3fc0c94-1b00-4f95-fef6-1d43eaab2898"
      },
      "execution_count": 17,
      "outputs": [
        {
          "output_type": "stream",
          "name": "stdout",
          "text": [
            "Vamos a calcular el área de un círculo: \n",
            "Por favor ingresa el radio: 5\n",
            "El área de un círculo de radio 5 es 78.53981633974483\n"
          ]
        },
        {
          "output_type": "execute_result",
          "data": {
            "text/plain": [
              "78.53981633974483"
            ]
          },
          "metadata": {},
          "execution_count": 17
        }
      ]
    },
    {
      "cell_type": "markdown",
      "source": [
        "---\n",
        "\n",
        "\n",
        "3) Realiza una función llamada relacion() que a partir de dos números cumpla lo siguiente:\n",
        "\n",
        "* Si el primer número es mayor que el segundo, debe devolver 1.\n",
        "* Si el primer número es menor que el segundo, debe devolver -1.\n",
        "* Si ambos números son iguales, debe devolver un 0.\n",
        "\n",
        "* Comprueba la relación entre los números: '5 y 10', '10 y 5' y '5 y 5'\n"
      ],
      "metadata": {
        "id": "Utco9MuKP3WX"
      }
    },
    {
      "cell_type": "code",
      "source": [
        "def relacion(*datos):\n",
        "    if datos[0] > datos[1]:\n",
        "        return 1\n",
        "    \n",
        "    elif datos[0] < datos[1]:\n",
        "        return -1\n",
        "    else:\n",
        "        return 0\n",
        "\n",
        "print (relacion(4,2))\n",
        "print (relacion(2,4))\n",
        "print (relacion(2,2))\n"
      ],
      "metadata": {
        "colab": {
          "base_uri": "https://localhost:8080/"
        },
        "id": "OuuhLZ61OnC7",
        "outputId": "05c83099-baf0-4ddd-f82b-d5fb0b9a55a6"
      },
      "execution_count": 25,
      "outputs": [
        {
          "output_type": "stream",
          "name": "stdout",
          "text": [
            "1\n",
            "-1\n",
            "0\n"
          ]
        }
      ]
    },
    {
      "cell_type": "markdown",
      "source": [
        "---\n",
        "\n",
        "4) Realiza una función llamada intermedio() que a partir de dos números, devuelva su punto intermedio:\n",
        "\n",
        "🖐 Ayuda: El número intermedio de dos números corresponde a la suma de los dos números dividida entre 2\n",
        "\n",
        "Comprueba el punto intermedio entre -12 y 24\n"
      ],
      "metadata": {
        "id": "s16edNLSSA59"
      }
    },
    {
      "cell_type": "code",
      "source": [
        "def relacion(*datos):\n",
        "    return (datos[0]+datos[1])/2\n",
        "\n",
        "print (relacion(-12,24))\n"
      ],
      "metadata": {
        "colab": {
          "base_uri": "https://localhost:8080/"
        },
        "id": "5Z9NscRKRjf3",
        "outputId": "ee79cc99-df50-4312-8644-361ac299c705"
      },
      "execution_count": 30,
      "outputs": [
        {
          "output_type": "stream",
          "name": "stdout",
          "text": [
            "6.0\n"
          ]
        }
      ]
    },
    {
      "cell_type": "markdown",
      "source": [
        "---\n",
        "\n",
        "5) Realizá una función llamada recortar() que reciba tres parámetros. El primero es el número a recortar, el segundo es el límite inferior y el tercero el límite superior. La función tendrá que cumplir lo siguiente:\n",
        "\n",
        "Devolver el límite inferior si el número es menor que éste\n",
        "Devolver el límite superior si el número es mayor que éste.\n",
        "Devolver el número sin cambios si no se supera ningún límite.\n",
        "Comprueba el resultado de recortar 15 entre los límites 0 y 10\n"
      ],
      "metadata": {
        "id": "ae_3kkIKTuD6"
      }
    },
    {
      "cell_type": "code",
      "source": [
        "def recortar(*datos):\n",
        "    numero_a_recortar = datos[0]\n",
        "    limite_inferior = datos[1]\n",
        "    limite_superior = datos[2]\n",
        "    if numero_a_recortar < limite_inferior:\n",
        "        return limite_inferior\n",
        "    elif numero_a_recortar > limite_superior:\n",
        "        return limite_superior\n",
        "    else:\n",
        "        return numero_a_recortar\n",
        "\n",
        "print(recortar(15, 0, 10))\n",
        "print(recortar(-10, 0, 10))\n",
        "print(recortar(8, 0, 10))"
      ],
      "metadata": {
        "colab": {
          "base_uri": "https://localhost:8080/"
        },
        "id": "gIVAmvs1TtoI",
        "outputId": "22c0081e-70db-4670-f68e-a1ec9674877c"
      },
      "execution_count": 34,
      "outputs": [
        {
          "output_type": "stream",
          "name": "stdout",
          "text": [
            "10\n",
            "0\n",
            "8\n"
          ]
        }
      ]
    },
    {
      "cell_type": "markdown",
      "source": [
        "---\n",
        "\n",
        "6) Realiza una función separar() que tome una lista de números enteros y devuelva dos listas ordenadas. La primera con los números pares, y la segunda con los números impares:\n",
        "\n",
        "🖐 Ayuda: Para ordenar una lista automáticamente puedes usar el método .sort()"
      ],
      "metadata": {
        "id": "-pFne2GdVcWu"
      }
    },
    {
      "cell_type": "code",
      "source": [
        "def separar(numeros):\n",
        "    pares = []\n",
        "    impares = []\n",
        "    for i in numeros:\n",
        "        if i % 2 == 0:\n",
        "            pares.append(i)\n",
        "        else:\n",
        "            impares.append(i)\n",
        "    return pares, impares\n",
        "\n",
        "pares, impares = separar([6,5,2,1,7])\n",
        "pares.sort()\n",
        "impares.sort()\n",
        "print(pares)   # valdría [2, 6]\n",
        "print(impares)  # valdría [1, 5, 7]\n"
      ],
      "metadata": {
        "colab": {
          "base_uri": "https://localhost:8080/"
        },
        "id": "b-7VJmoSVlIO",
        "outputId": "83de8b33-9e31-4a28-cefd-3d356b4c93a5"
      },
      "execution_count": 50,
      "outputs": [
        {
          "output_type": "stream",
          "name": "stdout",
          "text": [
            "[2, 6]\n",
            "[1, 5, 7]\n"
          ]
        }
      ]
    }
  ]
}