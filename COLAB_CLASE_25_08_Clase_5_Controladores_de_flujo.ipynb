{
  "nbformat": 4,
  "nbformat_minor": 0,
  "metadata": {
    "colab": {
      "name": "COLAB CLASE 25/08 Clase 5 - Controladores de flujo.ipynb",
      "provenance": [],
      "collapsed_sections": [],
      "include_colab_link": true
    },
    "kernelspec": {
      "name": "python3",
      "display_name": "Python 3"
    },
    "language_info": {
      "name": "python"
    }
  },
  "cells": [
    {
      "cell_type": "markdown",
      "metadata": {
        "id": "view-in-github",
        "colab_type": "text"
      },
      "source": [
        "<a href=\"https://colab.research.google.com/github/nestoraorlando/CoderHouse/blob/main/COLAB_CLASE_25_08_Clase_5_Controladores_de_flujo.ipynb\" target=\"_parent\"><img src=\"https://colab.research.google.com/assets/colab-badge.svg\" alt=\"Open In Colab\"/></a>"
      ]
    },
    {
      "cell_type": "markdown",
      "source": [
        "# While \n",
        "Codifique un programa en python que pida al usuario ingresar un número de forma indefinida hasta que el usuario ingrese un número par.\n",
        "Salida esperada:\n",
        "\n",
        "```\n",
        "Ingrese un número: 1\n",
        "Ingrese un número: 2\n",
        "salida\n",
        "```"
      ],
      "metadata": {
        "id": "ApOtH0d1VrnJ"
      }
    },
    {
      "cell_type": "code",
      "source": [
        "numero = 3\n",
        "while not (numero % 2 == 0):\n",
        "  numero = int(input(\"Ingrese un número: \"))\n",
        "print(\"salida\")"
      ],
      "metadata": {
        "colab": {
          "base_uri": "https://localhost:8080/"
        },
        "id": "ixNFBwP7XXIn",
        "outputId": "cb166a74-f24e-460e-aefe-eaca24472e61"
      },
      "execution_count": null,
      "outputs": [
        {
          "output_type": "stream",
          "name": "stdout",
          "text": [
            "Ingrese un número: 1\n",
            "Ingrese un número: 1\n",
            "Ingrese un número: 2\n",
            "salida\n"
          ]
        }
      ]
    },
    {
      "cell_type": "markdown",
      "source": [
        "Escribir un programa que le pregunte al usuario números hasta que ingrese el 0, cuando lo haga mostrar por pantalla la suma de todos los números ingresados."
      ],
      "metadata": {
        "id": "hAmb5v2VoLJL"
      }
    },
    {
      "cell_type": "markdown",
      "source": [],
      "metadata": {
        "id": "iAl-dQaDX4bN"
      }
    },
    {
      "cell_type": "code",
      "source": [
        "flag = True\n",
        "acum = 0\n",
        "while flag:\n",
        "  numero = int(input(\"Ingrese un número: \"))\n",
        "  if numero == 0:\n",
        "    flag = False\n",
        "  else:\n",
        "    acum += numero\n",
        "print(acum)"
      ],
      "metadata": {
        "colab": {
          "base_uri": "https://localhost:8080/"
        },
        "id": "rRi99cljnCYm",
        "outputId": "d7d02a6a-5fca-46a5-8fc8-b6657e0927db"
      },
      "execution_count": null,
      "outputs": [
        {
          "output_type": "stream",
          "name": "stdout",
          "text": [
            "Ingrese un número: 1\n",
            "Ingrese un número: 2\n",
            "Ingrese un número: 0\n",
            "3\n"
          ]
        }
      ]
    },
    {
      "cell_type": "markdown",
      "source": [
        "Codifique un programa en python que imprima por salida standard la siguiente secuencia:\n",
        "```\n",
        "N vale  1\n",
        "N vale  2\n",
        "N vale  3\n",
        "N vale  4\n",
        "N vale  5\n",
        "N vale  6\n",
        "```"
      ],
      "metadata": {
        "id": "lHq31KP1WswB"
      }
    },
    {
      "cell_type": "code",
      "source": [
        "n = 1\n",
        "while n < 7:\n",
        "   print(\"N vale \", n)\n",
        "   n += 1"
      ],
      "metadata": {
        "id": "cZPASDulWiHN",
        "colab": {
          "base_uri": "https://localhost:8080/"
        },
        "outputId": "7837444c-8b9c-4010-90d3-7496934005cb"
      },
      "execution_count": null,
      "outputs": [
        {
          "output_type": "stream",
          "name": "stdout",
          "text": [
            "N vale  1\n",
            "N vale  2\n",
            "N vale  3\n",
            "N vale  4\n",
            "N vale  5\n",
            "N vale  6\n"
          ]
        }
      ]
    },
    {
      "cell_type": "markdown",
      "source": [
        "# Sentencia Break\n",
        "Codifique un programa en python que pida al usuario ingresar un número entero entre 1 y 10 y luego imprima la secuancia hasta el 10, si el usuario ingresa 0 se sale del programa. \n",
        "Salida esperada:\n",
        "```\n",
        "ingrese un número: 8\n",
        "8\n",
        "9\n",
        "10\n",
        "ingrese un número: 7\n",
        "7\n",
        "8\n",
        "9\n",
        "10\n",
        "ingrese un número: 0\n",
        "salida, ingreso 0\n",
        "```"
      ],
      "metadata": {
        "id": "iEJ9yKRSXQ_6"
      }
    },
    {
      "cell_type": "code",
      "source": [
        "numero = 1\n",
        "while 0 < numero < 11:\n",
        "  numero = int(input(\"ingrese un número: \")) \n",
        "  if numero == 0:\n",
        "    print(\"salida, ingreso 0\")\n",
        "    break\n",
        "  secuencia = numero\n",
        "  while secuencia < 11:\n",
        "    print(secuencia)\n",
        "    secuencia +=1\n",
        "print(\"salida de while por break\")"
      ],
      "metadata": {
        "id": "qDAgpU0vXQuz",
        "colab": {
          "base_uri": "https://localhost:8080/"
        },
        "outputId": "bbc1e7f0-b271-4fd8-881b-c8ef25a1558e"
      },
      "execution_count": null,
      "outputs": [
        {
          "output_type": "stream",
          "name": "stdout",
          "text": [
            "ingrese un número: 5\n",
            "5\n",
            "6\n",
            "7\n",
            "8\n",
            "9\n",
            "10\n",
            "ingrese un número: 0\n",
            "salida, ingreso 0\n",
            "salida de whilep por break\n"
          ]
        }
      ]
    },
    {
      "cell_type": "markdown",
      "source": [
        "#Sentencia Continue\n",
        "Codifique un programa en python que pida al usuario ingresar un número y luego imprima por pantalla si el número es impar con la salvedad que no se pueden imprimir los números 1 y 5, para salir del programa tiene que ingresar un número par. Utilizar operador `continue`. \n",
        "\n",
        "Salida esperada:\n",
        "\n",
        "```\n",
        "ingrese un número: 1\n",
        "ingrese un número: 5\n",
        "ingrese un número: 3\n",
        "3 es impar\n",
        "ingrese un número: 2\n",
        "```\n",
        "\n"
      ],
      "metadata": {
        "id": "JAtIAPjlc1c5"
      }
    },
    {
      "cell_type": "code",
      "source": [
        "flag  = True\n",
        "\n",
        "while flag:\n",
        "  numero = int(input(\"ingrese un número: \"))\n",
        "  if numero in [1,5]:\n",
        "    continue\n",
        "  elif numero % 2 == 0:\n",
        "    flag = False\n",
        "  else:\n",
        "    print(f\"{numero} es impar\")"
      ],
      "metadata": {
        "id": "frYXxMiwc1pU",
        "colab": {
          "base_uri": "https://localhost:8080/"
        },
        "outputId": "675d7a67-2fde-4550-cf96-1aff04db8c46"
      },
      "execution_count": null,
      "outputs": [
        {
          "name": "stdout",
          "output_type": "stream",
          "text": [
            "ingrese un número: 1\n",
            "ingrese un número: 5\n",
            "ingrese un número: 7\n",
            "7 es impar\n",
            "ingrese un número: 3\n",
            "3 es impar\n",
            "ingrese un número: 2\n"
          ]
        }
      ]
    },
    {
      "cell_type": "markdown",
      "source": [
        "# FOR\n",
        "El bucle `for` sirve para poder recorrer tipos de datos iterables. Los que vimos en clase son:\n",
        "\n",
        "`tuplas`, `listas` y `strings`.\n",
        "\n",
        "\n",
        "Codifique un programa en python que imprima una lista de palabras. \n",
        "Salida esperada es\n",
        "```\n",
        "hola\n",
        "chau\n",
        "pony\n",
        "Claudia\n",
        "```"
      ],
      "metadata": {
        "id": "vtPkNISoiaZ9"
      }
    },
    {
      "cell_type": "code",
      "source": [
        "palabras = [\"hola\", \"chau\", \"pony\", \"Claudia\"]\n",
        "\n",
        "for palabra in palabras:\n",
        "  print(palabra)"
      ],
      "metadata": {
        "id": "7nz3FOeqmsV6",
        "colab": {
          "base_uri": "https://localhost:8080/"
        },
        "outputId": "cb803160-134d-44ce-fb4e-74f857437a4c"
      },
      "execution_count": null,
      "outputs": [
        {
          "output_type": "stream",
          "name": "stdout",
          "text": [
            "hola\n",
            "chau\n",
            "pony\n",
            "Claudia\n"
          ]
        }
      ]
    },
    {
      "cell_type": "markdown",
      "source": [
        "Codifique un programa en python que imprima una tupla de palabras en formato title. Salida esperada es\n",
        "```\n",
        "hola\n",
        "chau\n",
        "pony\n",
        "Claudia\n",
        "```"
      ],
      "metadata": {
        "id": "RsMp3AO505CT"
      }
    },
    {
      "cell_type": "code",
      "source": [
        "palabras = (\"hola que tal\", \"chau\", \"pony\", \"Claudia\")\n",
        "\n",
        "for palabra in palabras:\n",
        "  print(palabra.title())"
      ],
      "metadata": {
        "id": "iaXvCTxBzOMz",
        "colab": {
          "base_uri": "https://localhost:8080/"
        },
        "outputId": "89ae8a5a-6d44-46f4-c196-0001a38042f7"
      },
      "execution_count": null,
      "outputs": [
        {
          "output_type": "stream",
          "name": "stdout",
          "text": [
            "Hola Que Tal\n",
            "Chau\n",
            "Pony\n",
            "Claudia\n"
          ]
        }
      ]
    },
    {
      "cell_type": "markdown",
      "source": [
        "Codifique un programa en python que imprima solamente las vocales de una palabra.Si la entrada es `hola` La salida esperada es:\n",
        "\n",
        "```\n",
        "o\n",
        "a\n",
        "```"
      ],
      "metadata": {
        "id": "RlaiHNPUzmta"
      }
    },
    {
      "cell_type": "code",
      "source": [
        "palabra = \"hola\"\n",
        "vocales = [\"a\",\"e\", \"i\", \"o\", \"u\"]\n",
        "\n",
        "for letra in palabra:\n",
        "  if letra in vocales:\n",
        "    print(letra)"
      ],
      "metadata": {
        "id": "q7mEgLu9zdKm",
        "colab": {
          "base_uri": "https://localhost:8080/"
        },
        "outputId": "ac06981d-a62a-4361-eb8b-40dd51e3a8f2"
      },
      "execution_count": null,
      "outputs": [
        {
          "output_type": "stream",
          "name": "stdout",
          "text": [
            "o\n",
            "a\n"
          ]
        }
      ]
    },
    {
      "cell_type": "markdown",
      "source": [
        "#FOR-ELSE"
      ],
      "metadata": {
        "id": "inc9W_D1u1_O"
      }
    },
    {
      "cell_type": "code",
      "source": [
        "busqueda = input(\"ingrese lenguaje: \")\n",
        "lenguajes = [\"python\", \"c++\", \"golang\"]\n",
        "\n",
        "for leng in lenguajes:\n",
        "    if leng == busqueda:\n",
        "        print(f\"lenguaje {busqueda} esta en lista {lenguajes}\")\n",
        "        break # Si ingresa al if es por que el lenguaje que se busca esta en la \n",
        "              # lista de lenguajes. Se llama al break y sale del bucle y no pasa\n",
        "              # por el *else* \n",
        "else:\n",
        "    print(f\"lenguaje {busqueda} no esta en la lista {lenguajes}\")\n",
        "    # si el lenguaje buscado no esta en la lista de lenguajes, se ejecuta \n",
        "    # esta linea. \n"
      ],
      "metadata": {
        "colab": {
          "base_uri": "https://localhost:8080/"
        },
        "id": "cp5nL1cW21Vf",
        "outputId": "7340bbed-b83e-4802-a2e6-c74d1da5fbbb"
      },
      "execution_count": null,
      "outputs": [
        {
          "output_type": "stream",
          "name": "stdout",
          "text": [
            "ingrese lenguaje: java\n",
            "lenguaje java no esta en la lista ['python', 'c++', 'golang']\n"
          ]
        }
      ]
    },
    {
      "cell_type": "markdown",
      "source": [],
      "metadata": {
        "id": "Bi7LYWcov-1v"
      }
    },
    {
      "cell_type": "markdown",
      "source": [
        "#Enumerate\n",
        "Codifique un programa en python que imprima una lista de palabras y el indice que le corresponde. Salida esperada es:\n",
        "```\n",
        "0 hola\n",
        "1 chau\n",
        "2 pony\n",
        "3 Claudia\n",
        "```\n"
      ],
      "metadata": {
        "id": "cEiZmkF_m8yL"
      }
    },
    {
      "cell_type": "code",
      "source": [
        "palabras = [\"hola\", \"chau\", \"pony\", \"Claudia\"]\n",
        "\n",
        "for j, palabra in enumerate(palabras):\n",
        "  print(f\"{j} {palabra}\")\n"
      ],
      "metadata": {
        "id": "z7sL1hhunZmX",
        "colab": {
          "base_uri": "https://localhost:8080/"
        },
        "outputId": "80b00787-b184-4dd2-d7a5-50c7b32c50d5"
      },
      "execution_count": null,
      "outputs": [
        {
          "output_type": "stream",
          "name": "stdout",
          "text": [
            "0 hola\n",
            "1 chau\n",
            "2 pony\n",
            "3 Claudia\n"
          ]
        }
      ]
    },
    {
      "cell_type": "markdown",
      "source": [
        "# Range\n",
        "el range siempre empieza en N y termina M-1, donde N y M son números enteros. esto es para poder manipular indices mas fácil.\n",
        "\n",
        "Codifique un programa en python que imprima una lista de números del 0 al 10 utilizando un `for` y el `range`. Salida esperada:\n",
        "```\n",
        "0\n",
        "1\n",
        "2\n",
        "3\n",
        "4\n",
        "5\n",
        "6\n",
        "7\n",
        "8\n",
        "9\n",
        "10\n",
        "```"
      ],
      "metadata": {
        "id": "ACOGxpdPoGsK"
      }
    },
    {
      "cell_type": "code",
      "source": [
        "list(range(11))"
      ],
      "metadata": {
        "colab": {
          "base_uri": "https://localhost:8080/"
        },
        "id": "gyHEYBZP4oa0",
        "outputId": "842f7d10-528c-469e-da8b-1131e073cac4"
      },
      "execution_count": null,
      "outputs": [
        {
          "output_type": "execute_result",
          "data": {
            "text/plain": [
              "[0, 1, 2, 3, 4, 5, 6, 7, 8, 9, 10]"
            ]
          },
          "metadata": {},
          "execution_count": 4
        }
      ]
    },
    {
      "cell_type": "markdown",
      "source": [
        "El range tiene la capacidad de poder empezar desde un valor y terminar en otro valor asi como tambien se puede configurar steps.\n",
        "\n",
        "El step por defecto es 1.\n",
        "\n",
        "`range(comienzo,fin,pasos)`\n",
        "\n",
        "Codifique un programa en python que imprima números pares del 0 al 10 utilizando un `for` y el `range`"
      ],
      "metadata": {
        "id": "T-9rD4JxpD4v"
      }
    },
    {
      "cell_type": "code",
      "source": [
        "for i in range(0,11,2):\n",
        "  print(i)"
      ],
      "metadata": {
        "id": "7jgY7Ax8plxr",
        "colab": {
          "base_uri": "https://localhost:8080/"
        },
        "outputId": "816aed8a-f11e-49bc-b72b-4b722498b05a"
      },
      "execution_count": null,
      "outputs": [
        {
          "output_type": "stream",
          "name": "stdout",
          "text": [
            "0\n",
            "2\n",
            "4\n",
            "6\n",
            "8\n",
            "10\n"
          ]
        }
      ]
    },
    {
      "cell_type": "markdown",
      "source": [
        "Codifique un programa en python que imprima números pares del 90 \n",
        "al 100 utilizando un `for` y el `range`"
      ],
      "metadata": {
        "id": "lbkO54vBqBQd"
      }
    },
    {
      "cell_type": "code",
      "source": [
        "for i in range(90,101,2):\n",
        "  print(i)"
      ],
      "metadata": {
        "id": "hLlVg5GFqIAZ",
        "colab": {
          "base_uri": "https://localhost:8080/"
        },
        "outputId": "f7449f28-f3d3-4e33-d3fe-e6b2d745d1ce"
      },
      "execution_count": null,
      "outputs": [
        {
          "output_type": "stream",
          "name": "stdout",
          "text": [
            "90\n",
            "92\n",
            "94\n",
            "96\n",
            "98\n",
            "100\n"
          ]
        }
      ]
    },
    {
      "cell_type": "markdown",
      "source": [
        "El range puede aceptar steps negativos, pero hay que tener encuenta que el intervalo tiene que estar invertido:\n",
        "\n",
        "` range(numer_mayor, numero_menor, -1)`\n",
        "\n",
        "tener en cuenta que `numero_menor` no es parte del intervalo, con lo cual va a ser +1 siempre, por ejemplo:\n",
        "del `range(90,45)` nos daría una serie decreciente: 90, 89, .. 47, 46\n",
        "\n",
        "Codifique un programa en python que imprima una lista de números pares del 10 al 0 utilizando un `for` y el `range`"
      ],
      "metadata": {
        "id": "paEGQD1grMq4"
      }
    },
    {
      "cell_type": "code",
      "source": [
        "for e in range(10,-1,-1):\n",
        "    print(e)\n"
      ],
      "metadata": {
        "id": "j3og_yzirL7y",
        "colab": {
          "base_uri": "https://localhost:8080/"
        },
        "outputId": "a23d3494-8a66-49e3-bdb7-aea3d19623c8"
      },
      "execution_count": null,
      "outputs": [
        {
          "output_type": "stream",
          "name": "stdout",
          "text": [
            "10\n",
            "9\n",
            "8\n",
            "7\n",
            "6\n",
            "5\n",
            "4\n",
            "3\n",
            "2\n",
            "1\n",
            "0\n",
            "0\n"
          ]
        }
      ]
    }
  ]
}