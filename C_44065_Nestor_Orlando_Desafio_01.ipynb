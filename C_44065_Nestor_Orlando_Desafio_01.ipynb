{
  "nbformat": 4,
  "nbformat_minor": 0,
  "metadata": {
    "colab": {
      "name": "C_44065_Nestor_Orlando_Desafio_01.ipynb",
      "provenance": [],
      "include_colab_link": true
    },
    "kernelspec": {
      "name": "python3",
      "display_name": "Python 3"
    },
    "language_info": {
      "name": "python"
    }
  },
  "cells": [
    {
      "cell_type": "markdown",
      "metadata": {
        "id": "view-in-github",
        "colab_type": "text"
      },
      "source": [
        "<a href=\"https://colab.research.google.com/github/nestoraorlando/CoderHouse/blob/main/C_44065_Nestor_Orlando_Desafio_01.ipynb\" target=\"_parent\"><img src=\"https://colab.research.google.com/assets/colab-badge.svg\" alt=\"Open In Colab\"/></a>"
      ]
    },
    {
      "cell_type": "code",
      "execution_count": null,
      "metadata": {
        "colab": {
          "base_uri": "https://localhost:8080/"
        },
        "id": "UOMjqyA2qFIW",
        "outputId": "83f742e4-ec6b-4796-b9d8-7185c7cb5491"
      },
      "outputs": [
        {
          "output_type": "stream",
          "name": "stdout",
          "text": [
            "Por favor ingrese nota 1: (1 al 10) 10\n",
            "Por favor ingrese nota 2: (1 al 10) 2\n",
            "Por favor ingrese nota 3: (1 al 10) 2\n",
            "El promedio de la nota 1, nota 2 y nota 3 es 3.6\n"
          ]
        }
      ],
      "source": [
        "# programa que calcula el promedio ponderado entre las notas de \n",
        "# 3 materias \n",
        "\n",
        "# recolección de datos \n",
        "nota_1 = int(input(\"Por favor ingrese nota 1: (1 al 10) \"))\n",
        "nota_2 = int(input(\"Por favor ingrese nota 2: (1 al 10) \"))\n",
        "nota_3 = int(input(\"Por favor ingrese nota 3: (1 al 10) \"))\n",
        "\n",
        "# calculamos el promedio ponderado de los datos ingresados\n",
        "calcular_promedio_ponderado = ( nota_1 * 0.2 + nota_2 * 0.3 + nota_3 * 0.5) / (0.2 + 0.3 + 0.5)\n",
        "\n",
        "# imprimimos el resultado\n",
        "print(f\"El promedio de la nota 1, nota 2 y nota 3 es {calcular_promedio_ponderado}\")"
      ]
    }
  ]
}