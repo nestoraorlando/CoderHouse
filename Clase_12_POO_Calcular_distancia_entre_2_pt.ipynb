{
  "nbformat": 4,
  "nbformat_minor": 0,
  "metadata": {
    "colab": {
      "provenance": [],
      "authorship_tag": "ABX9TyNJ+E7NcdKj6rn+W3WHb/YM",
      "include_colab_link": true
    },
    "kernelspec": {
      "name": "python3",
      "display_name": "Python 3"
    },
    "language_info": {
      "name": "python"
    }
  },
  "cells": [
    {
      "cell_type": "markdown",
      "metadata": {
        "id": "view-in-github",
        "colab_type": "text"
      },
      "source": [
        "<a href=\"https://colab.research.google.com/github/nestoraorlando/CoderHouse/blob/main/Clase_12_POO_Calcular_distancia_entre_2_pt.ipynb\" target=\"_parent\"><img src=\"https://colab.research.google.com/assets/colab-badge.svg\" alt=\"Open In Colab\"/></a>"
      ]
    },
    {
      "cell_type": "markdown",
      "source": [
        "En el ejercicio se calcula la distancia a dos puntos de una recta, se crean los objetos puntos y luego el objeto recta.\n",
        "Si bien no hace falta crear el objeto recta, en el ejercicio se hace para entender cómo se puede interactuar con objetos dentro de otros objetos."
      ],
      "metadata": {
        "id": "VrsH48hW79yV"
      }
    },
    {
      "cell_type": "code",
      "execution_count": 3,
      "metadata": {
        "colab": {
          "base_uri": "https://localhost:8080/"
        },
        "id": "iTJ0FJUg1Las",
        "outputId": "54048573-52c4-4894-b6bb-ed8407c6db0a"
      },
      "outputs": [
        {
          "output_type": "stream",
          "name": "stdout",
          "text": [
            "4.47213595499958\n"
          ]
        }
      ],
      "source": [
        "import math\n",
        "\n",
        "class punto:\n",
        "    def __init__ (self, x,y):\n",
        "        self.x = x\n",
        "        self.y = y\n",
        "\n",
        "\n",
        "class recta:\n",
        "    \n",
        "    def __init__(self, a, b):\n",
        "        self.a = a\n",
        "        self.b = b\n",
        "\n",
        "    def calcula_longitud(self):\n",
        "        longitud = math.sqrt((self.b.x-self.a.x)**2+(self.b.y-self.a.y)**2)\n",
        "        print(longitud)\n",
        "\n",
        "punto_1 = punto(2,5)\n",
        "\n",
        "punto_2 = punto(6,3)\n",
        "\n",
        "recta_1 = recta(punto_1, punto_2)\n",
        "\n",
        "recta_1.calcula_longitud()\n",
        "\n"
      ]
    }
  ]
}