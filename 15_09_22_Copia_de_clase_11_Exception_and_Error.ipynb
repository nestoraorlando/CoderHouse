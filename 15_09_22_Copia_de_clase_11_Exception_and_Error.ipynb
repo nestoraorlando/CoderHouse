{
  "nbformat": 4,
  "nbformat_minor": 0,
  "metadata": {
    "colab": {
      "provenance": [],
      "collapsed_sections": [],
      "include_colab_link": true
    },
    "kernelspec": {
      "name": "python3",
      "display_name": "Python 3"
    },
    "language_info": {
      "name": "python"
    }
  },
  "cells": [
    {
      "cell_type": "markdown",
      "metadata": {
        "id": "view-in-github",
        "colab_type": "text"
      },
      "source": [
        "<a href=\"https://colab.research.google.com/github/nestoraorlando/CoderHouse/blob/main/15_09_22_Copia_de_clase_11_Exception_and_Error.ipynb\" target=\"_parent\"><img src=\"https://colab.research.google.com/assets/colab-badge.svg\" alt=\"Open In Colab\"/></a>"
      ]
    },
    {
      "cell_type": "markdown",
      "source": [
        "# Error sintácticos"
      ],
      "metadata": {
        "id": "Na67D0w8Ur7e"
      }
    },
    {
      "cell_type": "code",
      "execution_count": null,
      "metadata": {
        "colab": {
          "base_uri": "https://localhost:8080/"
        },
        "id": "_LZfcsNgUpCU",
        "outputId": "7c63304a-5c6e-4a59-c11f-2ed0484b3490"
      },
      "outputs": [
        {
          "output_type": "error",
          "ename": "SyntaxError",
          "evalue": "ignored",
          "traceback": [
            "\u001b[0;36m  File \u001b[0;32m\"<ipython-input-1-9251c1393654>\"\u001b[0;36m, line \u001b[0;32m1\u001b[0m\n\u001b[0;31m    1hola = \"german\"\u001b[0m\n\u001b[0m        ^\u001b[0m\n\u001b[0;31mSyntaxError\u001b[0m\u001b[0;31m:\u001b[0m invalid syntax\n"
          ]
        }
      ],
      "source": [
        "1hola = \"german\""
      ]
    },
    {
      "cell_type": "code",
      "source": [
        "while True:\n",
        "print(\"hola\")"
      ],
      "metadata": {
        "colab": {
          "base_uri": "https://localhost:8080/",
          "height": 131
        },
        "id": "uD3EmeKbU5Cz",
        "outputId": "4ffcc972-6f1a-43f0-93b7-0073287a7644"
      },
      "execution_count": null,
      "outputs": [
        {
          "output_type": "error",
          "ename": "IndentationError",
          "evalue": "ignored",
          "traceback": [
            "\u001b[0;36m  File \u001b[0;32m\"<ipython-input-2-8b2917f7392b>\"\u001b[0;36m, line \u001b[0;32m2\u001b[0m\n\u001b[0;31m    print(\"hola\")\u001b[0m\n\u001b[0m        ^\u001b[0m\n\u001b[0;31mIndentationError\u001b[0m\u001b[0;31m:\u001b[0m expected an indented block\n"
          ]
        }
      ]
    },
    {
      "cell_type": "code",
      "source": [
        "print(\"hola\""
      ],
      "metadata": {
        "id": "Syu71eRFVBN-",
        "colab": {
          "base_uri": "https://localhost:8080/",
          "height": 131
        },
        "outputId": "4d9468ff-a68d-4025-f502-de45efd829da"
      },
      "execution_count": null,
      "outputs": [
        {
          "output_type": "error",
          "ename": "SyntaxError",
          "evalue": "ignored",
          "traceback": [
            "\u001b[0;36m  File \u001b[0;32m\"<ipython-input-3-9751fbfdc060>\"\u001b[0;36m, line \u001b[0;32m1\u001b[0m\n\u001b[0;31m    print(\"hola\"\u001b[0m\n\u001b[0m                ^\u001b[0m\n\u001b[0;31mSyntaxError\u001b[0m\u001b[0;31m:\u001b[0m unexpected EOF while parsing\n"
          ]
        }
      ]
    },
    {
      "cell_type": "markdown",
      "source": [
        "# Errores semánticos"
      ],
      "metadata": {
        "id": "wzPX7sCFVHpq"
      }
    },
    {
      "cell_type": "code",
      "source": [
        "f = []\n",
        "f.pop()"
      ],
      "metadata": {
        "colab": {
          "base_uri": "https://localhost:8080/",
          "height": 183
        },
        "id": "XdBc_tSPVLDy",
        "outputId": "3ef1741d-9ab6-4df5-b68b-208dcbcb2f7f"
      },
      "execution_count": null,
      "outputs": [
        {
          "output_type": "error",
          "ename": "IndexError",
          "evalue": "ignored",
          "traceback": [
            "\u001b[0;31m---------------------------------------------------------------------------\u001b[0m",
            "\u001b[0;31mIndexError\u001b[0m                                Traceback (most recent call last)",
            "\u001b[0;32m<ipython-input-1-aa8770dd5e3b>\u001b[0m in \u001b[0;36m<module>\u001b[0;34m\u001b[0m\n\u001b[1;32m      1\u001b[0m \u001b[0mf\u001b[0m \u001b[0;34m=\u001b[0m \u001b[0;34m[\u001b[0m\u001b[0;34m]\u001b[0m\u001b[0;34m\u001b[0m\u001b[0;34m\u001b[0m\u001b[0m\n\u001b[0;32m----> 2\u001b[0;31m \u001b[0mf\u001b[0m\u001b[0;34m.\u001b[0m\u001b[0mpop\u001b[0m\u001b[0;34m(\u001b[0m\u001b[0;34m)\u001b[0m\u001b[0;34m\u001b[0m\u001b[0;34m\u001b[0m\u001b[0m\n\u001b[0m",
            "\u001b[0;31mIndexError\u001b[0m: pop from empty list"
          ]
        }
      ]
    },
    {
      "cell_type": "code",
      "source": [
        "a = input(\"Ingrese un número: \")\n",
        "a + 1"
      ],
      "metadata": {
        "colab": {
          "base_uri": "https://localhost:8080/",
          "height": 201
        },
        "id": "-4fr5KGZVlNo",
        "outputId": "4f9fe079-66d2-4fb8-8f58-15b11c79ee06"
      },
      "execution_count": null,
      "outputs": [
        {
          "name": "stdout",
          "output_type": "stream",
          "text": [
            "Ingrese un número: h\n"
          ]
        },
        {
          "output_type": "error",
          "ename": "TypeError",
          "evalue": "ignored",
          "traceback": [
            "\u001b[0;31m---------------------------------------------------------------------------\u001b[0m",
            "\u001b[0;31mTypeError\u001b[0m                                 Traceback (most recent call last)",
            "\u001b[0;32m<ipython-input-6-2635d705cfb2>\u001b[0m in \u001b[0;36m<module>\u001b[0;34m\u001b[0m\n\u001b[1;32m      1\u001b[0m \u001b[0ma\u001b[0m \u001b[0;34m=\u001b[0m \u001b[0minput\u001b[0m\u001b[0;34m(\u001b[0m\u001b[0;34m\"Ingrese un número: \"\u001b[0m\u001b[0;34m)\u001b[0m\u001b[0;34m\u001b[0m\u001b[0;34m\u001b[0m\u001b[0m\n\u001b[0;32m----> 2\u001b[0;31m \u001b[0ma\u001b[0m \u001b[0;34m+\u001b[0m \u001b[0;36m1\u001b[0m\u001b[0;34m\u001b[0m\u001b[0;34m\u001b[0m\u001b[0m\n\u001b[0m",
            "\u001b[0;31mTypeError\u001b[0m: can only concatenate str (not \"int\") to str"
          ]
        }
      ]
    },
    {
      "cell_type": "code",
      "source": [
        "def sumar_enteros(a, b):\n",
        "  if isinstance(a, int) and isinstance(b, int):\n",
        "    return a + b\n",
        "\n",
        "  return \"uno de los valores no es entero\""
      ],
      "metadata": {
        "id": "eXkIWwchdxac"
      },
      "execution_count": null,
      "outputs": []
    },
    {
      "cell_type": "markdown",
      "source": [
        "[>>mas info sobre errores<<<](https://greenteapress.com/thinkpython2/html/thinkpython2021.html)"
      ],
      "metadata": {
        "id": "xtdajazJn1kL"
      }
    },
    {
      "cell_type": "markdown",
      "source": [
        "# Desafio\n",
        "En la función de nuestro ejercicio hay un fallo potencial, averigua cuándo sucede y retorna el valor None en ese caso especial, en cualquier otro caso devuelve el resultado normal de la función."
      ],
      "metadata": {
        "id": "cjXNquTpV0K7"
      }
    },
    {
      "cell_type": "code",
      "source": [
        "def divi(a,b):\n",
        "  return a/b"
      ],
      "metadata": {
        "id": "F62hrYqkVzZa"
      },
      "execution_count": null,
      "outputs": []
    },
    {
      "cell_type": "markdown",
      "source": [
        "# Try/Except"
      ],
      "metadata": {
        "id": "wvbG0sAoWMdF"
      }
    },
    {
      "cell_type": "code",
      "source": [
        "try:\n",
        "  divi(1,0)\n",
        "except ZeroDivisionError:\n",
        "  print(\"no se puede dividir por 0\")\n",
        "  "
      ],
      "metadata": {
        "id": "9S6zWRPcXqAq"
      },
      "execution_count": null,
      "outputs": []
    },
    {
      "cell_type": "markdown",
      "source": [
        "# Multiples Except"
      ],
      "metadata": {
        "id": "EgVYkcRxX1Wp"
      }
    },
    {
      "cell_type": "code",
      "source": [
        "try:\n",
        "  a = int(input(\"Ingrese un número: \"))\n",
        "  b = int(input(\"Ingrese otro número: \"))\n",
        "  divi(a,b)\n",
        "except ValueError:\n",
        "  print(\"valor ingresado no es numerico entero\")\n",
        "except ZeroDivisionError:\n",
        "  print(\"no se puede dividir por 0\")"
      ],
      "metadata": {
        "colab": {
          "base_uri": "https://localhost:8080/"
        },
        "id": "ljAEmrbAWP-m",
        "outputId": "1c1106d6-fcab-4a27-9850-c0494bc4ab36"
      },
      "execution_count": null,
      "outputs": [
        {
          "output_type": "stream",
          "name": "stdout",
          "text": [
            "Ingrese un número: 2,7\n",
            "valor ingresado no es numerico entero\n"
          ]
        }
      ]
    },
    {
      "cell_type": "markdown",
      "source": [
        "# try/except/else/finally "
      ],
      "metadata": {
        "id": "bVosPz-QpYQi"
      }
    },
    {
      "cell_type": "code",
      "source": [
        "try:\n",
        "  a = int(input(\"Ingrese un número: \"))\n",
        "  b = int(input(\"Ingrese otro número: \"))\n",
        "  print(divi(a,b))\n",
        "except ValueError:\n",
        "  print(\"valor ingresado no es numerico entero\")\n",
        "else:\n",
        "  print(\"se ejecutó todo ok\")\n",
        "finally:\n",
        "  print(\" Se ejecuto el try\")\n",
        "\n",
        "print(\"Se termino el programa!!\")"
      ],
      "metadata": {
        "colab": {
          "base_uri": "https://localhost:8080/"
        },
        "id": "PkjzMQTlpcwr",
        "outputId": "24446458-54f6-444f-be55-6203f99b79dd"
      },
      "execution_count": null,
      "outputs": [
        {
          "output_type": "stream",
          "name": "stdout",
          "text": [
            "Ingrese un número: 1\n",
            "Ingrese otro número: 1\n",
            "1.0\n",
            "se ejecutó todo ok\n",
            "Se termino el programa!!\n"
          ]
        }
      ]
    },
    {
      "cell_type": "markdown",
      "source": [
        "# Desafio\n",
        "\n",
        "Tomando la solución del ejercicio anterior anterior, en lugar de devolver None al dividir entre cero, tienes que capturar una excepción que muestre por pantalla EXACTAMENTE el mensaje: “No se puede dividir entre cero”; si falla el código"
      ],
      "metadata": {
        "id": "PgXvyBMvYI-W"
      }
    }
  ]
}