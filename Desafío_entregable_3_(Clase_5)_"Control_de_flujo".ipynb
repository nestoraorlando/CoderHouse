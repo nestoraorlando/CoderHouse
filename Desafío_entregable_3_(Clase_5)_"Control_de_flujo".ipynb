{
  "nbformat": 4,
  "nbformat_minor": 0,
  "metadata": {
    "colab": {
      "name": "Desafío entregable 3 (Clase 5) \"Control de flujo\".ipynb",
      "provenance": [],
      "authorship_tag": "ABX9TyNS92U5D/5UfK+LpYXZiT/K",
      "include_colab_link": true
    },
    "kernelspec": {
      "name": "python3",
      "display_name": "Python 3"
    },
    "language_info": {
      "name": "python"
    }
  },
  "cells": [
    {
      "cell_type": "markdown",
      "metadata": {
        "id": "view-in-github",
        "colab_type": "text"
      },
      "source": [
        "<a href=\"https://colab.research.google.com/github/nestoraorlando/CoderHouse/blob/main/Desaf%C3%ADo_entregable_3_(Clase_5)_%22Control_de_flujo%22.ipynb\" target=\"_parent\"><img src=\"https://colab.research.google.com/assets/colab-badge.svg\" alt=\"Open In Colab\"/></a>"
      ]
    },
    {
      "cell_type": "markdown",
      "source": [
        "1) Escribí un programa que lea dos números por teclado y permita elegir entre 4 opciones en un menú:\n",
        "\n",
        "*   Mostrar una suma de los dos números\n",
        "*   Mostrar una resta de los dos números (el primero menos el segundo)\n",
        "*   Mostrar una multiplicación de los dos números\n",
        "*   Si elige esta opción se interrumpirá la impresión del menú y el programa finalizará\n",
        "\n",
        "*   En caso de no introducir una opción válida, el programa informará de que no es correcta.\n",
        "\n",
        "\n",
        "\n"
      ],
      "metadata": {
        "id": "p7Y0aDUbBlT-"
      }
    },
    {
      "cell_type": "code",
      "execution_count": 5,
      "metadata": {
        "colab": {
          "base_uri": "https://localhost:8080/"
        },
        "id": "1cSRcl3UBaGh",
        "outputId": "604f0c77-9ec4-43e3-8355-ec2dc759c3fc"
      },
      "outputs": [
        {
          "output_type": "stream",
          "name": "stdout",
          "text": [
            "Ingrese un nro.: 12\n",
            "Ingrese otro nro.: 23\n",
            "a) Mostrar la suma de los dos números.\n",
            "b) Mostrar la resta de los dos números.\n",
            "c) Mostrar una multiplicación de los dos números.\n",
            "d) Sale del programa\n",
            "Por favor elija una opción: d\n",
            "Gracias, hasta luego...\n"
          ]
        }
      ],
      "source": [
        "num1 = int(input(\"Ingrese un nro.: \"))\n",
        "num2 = int(input(\"Ingrese otro nro.: \"))\n",
        "\n",
        "print(\"a) Mostrar la suma de los dos números.\")\n",
        "print(\"b) Mostrar la resta de los dos números.\")\n",
        "print(\"c) Mostrar una multiplicación de los dos números.\")\n",
        "print(\"d) Sale del programa\")\n",
        "\n",
        "while True:\n",
        "  accion = input(\"Por favor elija una opción: \")\n",
        "  if accion == \"a\":\n",
        "    print(f\"La suma de {num1} + {num2} es {num1 + num2}\")\n",
        "  elif accion == \"b\":\n",
        "    print(f\"La resta de {num1} - {num2} es {num1 - num2}\")\n",
        "  elif accion == \"c\":\n",
        "    print(f\"La multiplicación de {num1} x {num2} es {num1 * num2}\")\n",
        "  elif accion == \"d\":\n",
        "    print(\"Gracias, hasta luego...\")\n",
        "    break\n",
        "  else:\n",
        "    print(\"Esa opción no es válida\")\n",
        "\n"
      ]
    },
    {
      "cell_type": "markdown",
      "source": [],
      "metadata": {
        "id": "aWHiaZMiFzT3"
      }
    },
    {
      "cell_type": "markdown",
      "source": [
        "---\n",
        "\n",
        "2) Escribí un programa que lea un número impar por teclado. Si el usuario no introduce un número impar, debe repetirse el proceso hasta que lo introduzca correctamente."
      ],
      "metadata": {
        "id": "mVYbzCzzGbKn"
      }
    },
    {
      "cell_type": "code",
      "source": [
        "while True:\n",
        "  impar = int(input(\"Por favor ingrese un nro impar: \"))\n",
        "  if impar % 2 == 1:\n",
        "    print(f\"Ud ingresó {impar}\\n\")\n",
        "    break\n",
        "  print(f\"{impar} no es un nro impar.\")"
      ],
      "metadata": {
        "colab": {
          "base_uri": "https://localhost:8080/"
        },
        "id": "w3JlnUEZGhid",
        "outputId": "ae7e4fb5-be0d-43a1-de2e-f12f8ceee1ba"
      },
      "execution_count": 8,
      "outputs": [
        {
          "output_type": "stream",
          "name": "stdout",
          "text": [
            "Por favor ingrese un nro impar: 2\n",
            "2 no es un nro impar.\n",
            "Por favor ingrese un nro impar: 5\n",
            "Ud ingresó 5\n",
            "\n"
          ]
        }
      ]
    },
    {
      "cell_type": "markdown",
      "source": [
        "---\n",
        "\n",
        "3) Escribí un programa que sume todos los números enteros impares desde el 0 hasta el 100:\n",
        "\n",
        "🖐 Ayuda: Podes utilizar la funciones sum() y range() para hacerlo más fácil. El tercer parámetro en la función range(inicio, fin, salto) indica un salto de números.\n"
      ],
      "metadata": {
        "id": "UO69rXPyHl2R"
      }
    },
    {
      "cell_type": "code",
      "source": [
        "suma = 0\n",
        "for i in range (1,100,2):\n",
        "  suma += i\n",
        "\n",
        "print(f\"La suma de todos los nros. impares desde 0 a 100 es {suma}\")\n"
      ],
      "metadata": {
        "colab": {
          "base_uri": "https://localhost:8080/"
        },
        "id": "2BDiFhYYHwkF",
        "outputId": "839e0045-924a-4bdc-d0e1-f97d36ab577c"
      },
      "execution_count": 9,
      "outputs": [
        {
          "output_type": "stream",
          "name": "stdout",
          "text": [
            "La suma de todos los nros. impares desde 0 a 100 es 2500\n"
          ]
        }
      ]
    },
    {
      "cell_type": "markdown",
      "source": [
        "---\n",
        "\n",
        "4) Escribí un programa que pida al usuario cuantos números quiere introducir. Luego lee todos los números y realiza una media aritmética:"
      ],
      "metadata": {
        "id": "CSM_LkB5IvDt"
      }
    },
    {
      "cell_type": "code",
      "source": [
        "cuantos_nros = int(input(\"Por favor ingrese cuantos nros. quiere introducir: \"))\n",
        "suma = 0\n",
        "for i in range(cuantos_nros):\n",
        "  nro = int(input(\"Ingrese un nro.: \"))\n",
        "  suma += nro\n",
        "\n",
        "print(f\"La media aritmética es {suma / nro}\")"
      ],
      "metadata": {
        "colab": {
          "base_uri": "https://localhost:8080/"
        },
        "id": "h4QP6-1hIxwd",
        "outputId": "40e02e16-f990-4087-c597-75dc6c321abc"
      },
      "execution_count": 12,
      "outputs": [
        {
          "output_type": "stream",
          "name": "stdout",
          "text": [
            "Por favor ingrese cuantos nros. quiere introducir: 3\n",
            "Ingrese un nro.: 1\n",
            "Ingrese un nro.: 2\n",
            "Ingrese un nro.: 3\n",
            "La media aritmética es 2.0\n"
          ]
        }
      ]
    },
    {
      "cell_type": "markdown",
      "source": [
        "---\n",
        "\n",
        "5) Escribí un programa que pida al usuario un número entero del 0 al 9, y que mientras el número no sea correcto se repita el proceso. Luego debe comprobar si el número se encuentra en la lista de números y notificarlo:\n",
        "🖐 Ayuda: La sintaxis \"valor in lista\" permite comprobar fácilmente si un valor se encuentra en una lista (devuelve True o False)"
      ],
      "metadata": {
        "id": "-kdaHUvFKz7G"
      }
    },
    {
      "cell_type": "code",
      "source": [
        "numeros = [1, 3, 6, 9]\n",
        "\n",
        "while True:\n",
        "  nro = int(input(\"Por favor ingrese un nro impar: \"))\n",
        "  if nro % 2 == 1:\n",
        "    if nro in numeros:\n",
        "      print(\"El nro ingresado está en la lista.\")\n",
        "  "
      ],
      "metadata": {
        "id": "Ckk1jOY5K1mx"
      },
      "execution_count": null,
      "outputs": []
    },
    {
      "cell_type": "markdown",
      "source": [
        "---\n",
        "\n",
        "6) Utilizando la función range() y la conversión a listas genera las siguientes listas dinámicamente:\n",
        "\n",
        "Todos los números del 0 al 10 [0, 1, 2, ..., 10]\n",
        "Todos los números del -10 al 0 [-10, -9, -8, ..., 0]\n",
        "Todos los números pares del 0 al 20 [0, 2, 4, ..., 20]\n",
        "Todos los números impares entre -20 y 0 [-19, -17, -15, ..., -1]\n",
        "Todos los números múltiples de 5 del 0 al 50 [0, 5, 10, ..., 50]\n",
        "\n",
        "🖐 Ayuda: la conversión de listas es mi_lista=list(range(inicio,fin,salto))"
      ],
      "metadata": {
        "id": "lXi0BjjTNESe"
      }
    },
    {
      "cell_type": "code",
      "source": [
        "# El profesor pidió no hacer éste ejercicio."
      ],
      "metadata": {
        "colab": {
          "base_uri": "https://localhost:8080/"
        },
        "id": "jdcrOn_aL15i",
        "outputId": "b957bb76-6e16-417d-8c74-f467c59a354f"
      },
      "execution_count": 14,
      "outputs": [
        {
          "output_type": "execute_result",
          "data": {
            "text/plain": [
              "True"
            ]
          },
          "metadata": {},
          "execution_count": 14
        }
      ]
    },
    {
      "cell_type": "markdown",
      "source": [
        "---\n",
        "\n",
        "6) Dadas dos listas, debes generar una tercera con todos los elementos que se repitan en ellas, pero no debe repetirse ningún elemento en la nueva lista:\n"
      ],
      "metadata": {
        "id": "q4DZGLmLNbBJ"
      }
    },
    {
      "cell_type": "code",
      "source": [
        "lista_1 = [\"h\",'o','l','a',' ', 'm','u','n','d','o']\n",
        "lista_2 = [\"h\",'o','l','a',' ', 'l','u','n','a']\n",
        "\n",
        "lista_3 = lista_1 + lista_2\n",
        "\n",
        "indice = 0\n",
        "\n",
        "while True:\n",
        "  if lista_3.count(lista_3[indice]) > 1:\n",
        "    lista_3.pop(indice)\n",
        "  else:\n",
        "    indice += 1\n",
        "    if indice == len(lista_3):\n",
        "      break\n",
        "  \n",
        "print(lista_3)"
      ],
      "metadata": {
        "colab": {
          "base_uri": "https://localhost:8080/"
        },
        "id": "artE7FsWNdsH",
        "outputId": "845b5705-d441-4cfa-9313-1304ac7f1c4b"
      },
      "execution_count": 9,
      "outputs": [
        {
          "output_type": "stream",
          "name": "stdout",
          "text": [
            "['m', 'd', 'h', 'o', ' ', 'l', 'u', 'n', 'a']\n"
          ]
        }
      ]
    }
  ]
}