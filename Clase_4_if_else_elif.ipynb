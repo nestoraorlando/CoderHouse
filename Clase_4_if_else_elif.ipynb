{
  "nbformat": 4,
  "nbformat_minor": 0,
  "metadata": {
    "colab": {
      "name": "Clase_4_if_else_elif.ipynb",
      "provenance": [],
      "authorship_tag": "ABX9TyPx3HFPIbT2Hi2UiyQ/Q8fY",
      "include_colab_link": true
    },
    "kernelspec": {
      "name": "python3",
      "display_name": "Python 3"
    },
    "language_info": {
      "name": "python"
    }
  },
  "cells": [
    {
      "cell_type": "markdown",
      "metadata": {
        "id": "view-in-github",
        "colab_type": "text"
      },
      "source": [
        "<a href=\"https://colab.research.google.com/github/nestoraorlando/CoderHouse/blob/main/Clase_4_if_else_elif.ipynb\" target=\"_parent\"><img src=\"https://colab.research.google.com/assets/colab-badge.svg\" alt=\"Open In Colab\"/></a>"
      ]
    },
    {
      "cell_type": "markdown",
      "source": [
        "#CLASE 04 \n",
        "##CONTROL DE FLUJO\n"
      ],
      "metadata": {
        "id": "rzkEIywdTVpr"
      }
    },
    {
      "cell_type": "code",
      "execution_count": null,
      "metadata": {
        "id": "A67QGxl4TL-G"
      },
      "outputs": [],
      "source": [
        "# Checkear si es mayor de 18\n",
        "\n",
        "\n",
        "edad = 18\n",
        "if edad >= 18:\n",
        "    print(f\"{edad}, Es mayor de edad\")\n",
        "\n",
        "\n",
        "#Checkear si Es mayor de 18 y es Argentino\n",
        "edad = 18\n",
        "pais = \"Arg\"\n",
        "\n",
        "if edad >= 18:\n",
        "    print(f\"{edad}, Es mayor de edad\")\n",
        "\n",
        "if pais == \"Arg\":\n",
        "    print(\"Es extrajera\")\n",
        "\n",
        "    \n",
        "\n",
        "#Checkear si es Argetino y si puede comprar Alcohol\n",
        "edad = 17\n",
        "pais = \"Arg\"\n",
        "\n",
        "if edad >= 18:\n",
        "  print(\"Es Mayor a 18.\")\n",
        "  if pais == \"Arg\":\n",
        "    print(\"Puede comprar alcohol.\")\n",
        "\n",
        "\n",
        "#Checkar si Puede votar en Argentina\n",
        "\n",
        "edad =  int(input(\"Ingrese edad:\"))\n",
        "pais  =  input(\"Ingrese país:\") \n",
        "if pais == \"Arg\":\n",
        "    if edad >= 16:\n",
        "        print(\"Puede votar\")\n",
        "\n",
        "# se puede resumir en\n",
        "\n",
        "edad = 16\n",
        "pais = \"Arg\"\n",
        "\n",
        "if edad >= 16 and pais == \"Arg\":\n",
        "    print(\"Puede votar\")\n",
        "\n",
        "\n",
        "#Chekear si es alto\n",
        "pais = \"Arg\"\n",
        "if altura > \"Arg\": \n",
        "  print(\"Es Arg\") ## True\n",
        "else:  \n",
        "  print(\"No es Arg\") ## False\n",
        "\n",
        "\n",
        "#Validar nota\n",
        "\n",
        "if nota >= 9 :\n",
        "  print(\"Sobresaliente\")\n",
        "elif nota >= 7 :\n",
        "  print(\"BUeno\")\n",
        "else:\n",
        "  print(\"Insuficiente\")\n",
        "\n",
        "#\n",
        "\n",
        "nota = 9    \n",
        "if nota >= 9 :\n",
        "  print(\"Sobresaliente\")\n",
        "if nota >= 7 :\n",
        "  print(\"Bueno\")\n",
        "else:\n",
        "  print(\"Insuficiente\")"
      ]
    },
    {
      "cell_type": "markdown",
      "source": [
        "---\n",
        "\n",
        "##ACTIVIDAD EN CLASE\n",
        "\n",
        "\n",
        "Descripción de la actividad. \n",
        "\n",
        "Escribir un programa que indique la generación correspondiente para un año de nacimiento indicado. \n",
        "\n",
        "Importante: Para los años que no pertenezcan a ninguna generación, se deberá colocar: “No existe generación asociada”\n"
      ],
      "metadata": {
        "id": "BJA6hrrlhDZx"
      }
    },
    {
      "cell_type": "code",
      "source": [
        "agno_nacim = int(input(\"Por favor ingrese su año de nacimiento: \"))\n",
        "\n",
        "if agno_nacim <= 1940 :\n",
        "  print (\"Ud. pertenece a la generación Silenciosa.\")\n",
        "\n",
        "elif agno_nacim >= 1941 and agno_nacim <=1964:\n",
        "  print(\"Ud. pertenece a la generación Boomer.\")\n",
        "\n",
        "elif agno_nacim >= 1965 and agno_nacim <=1979:\n",
        "  print(\"Ud. pertenece a la generación X.\")\n",
        "\n",
        "elif agno_nacim >= 1980 and agno_nacim <=2000:\n",
        "  print(\"Ud. pertenece a la generación Y.\")\n",
        "\n",
        "elif agno_nacim >= 2001 and agno_nacim <=2010:\n",
        "  print(\"Ud. pertenece a la generación Z.\")\n",
        "\n",
        "else:\n",
        "  print(\"Ud. no pertenece a la generacion ....\")"
      ],
      "metadata": {
        "colab": {
          "base_uri": "https://localhost:8080/"
        },
        "id": "Nn5tfiSGhKGR",
        "outputId": "5b00e672-0d1c-4604-ceef-45b3900dd2f2"
      },
      "execution_count": 16,
      "outputs": [
        {
          "output_type": "stream",
          "name": "stdout",
          "text": [
            "Por favor ingrese su año de nacimiento: 2002\n",
            "Ud. pertenece a la generación Z.\n"
          ]
        }
      ]
    },
    {
      "cell_type": "markdown",
      "source": [
        "---\n",
        "\n",
        "\n",
        "Descripción de la actividad. \n",
        "\n",
        "Para aprobar un crédito, el cliente debe ser mayor de edad. Además, debe tener una antigüedad en el sistema financiero de mínimo 3 años y un ingreso mayor a 2500 dólares.  En caso no tenga la antigüedad suficiente, su ingreso mensual debe ser como mínimo 4000 dólares. Si no cumple ninguna de las condiciones, no se aprueba el crédito\n",
        "\n",
        "Datos iniciales\n",
        "edad = 15\n",
        "antigüedad = 10\n",
        "ingreso = 1500\n"
      ],
      "metadata": {
        "id": "88gWY_14mkP3"
      }
    },
    {
      "cell_type": "code",
      "source": [
        "nombre = \"Juan Perez\"\n",
        "\n",
        "edad = (17, 18, 18, 18)\n",
        "antiguedad = (3, 2, 3, 2)\n",
        "ingreso = (2500, 2500, 2500, 4000)\n",
        "\n",
        "# iteración por cada elemento de edad\n",
        "for i in range(len(edad)):\n",
        "  print (f\"\\nNombre: {nombre}\")\n",
        "  print (f\"Edad: {edad[i]}\")\n",
        "  print (f\"Antigüedad: {antiguedad[i]}\")\n",
        "  print (f\"Ingreso mensual: {ingreso[i]}\")\n",
        "  if edad[i] >= 18:\n",
        "    if antiguedad[i] >= 3:\n",
        "      if ingreso[i] >= 2500:\n",
        "        print(\"Crédito aprobado\\n\")\n",
        "      else:\n",
        "        print(\"Credito Rechazado!!\\n\")\n",
        "    elif ingreso[i] >= 4000:\n",
        "      print(\"Credito aprobado!!\\n\")\n",
        "    else:\n",
        "      print(\"Crédito Rechazado!!\\n\")\n",
        "  else:\n",
        "    print(\"Crédito Rechazado!!\\n\")"
      ],
      "metadata": {
        "colab": {
          "base_uri": "https://localhost:8080/"
        },
        "id": "Z3B8N85NmxRg",
        "outputId": "d2fe2e4c-a771-4033-86bd-c147352af6a4"
      },
      "execution_count": 15,
      "outputs": [
        {
          "output_type": "stream",
          "name": "stdout",
          "text": [
            "\n",
            "Nombre: Juan Perez\n",
            "Edad: 17\n",
            "Antigüedad: 3\n",
            "Ingreso mensual: 2500\n",
            "Crédito Rechazado!!\n",
            "\n",
            "\n",
            "Nombre: Juan Perez\n",
            "Edad: 18\n",
            "Antigüedad: 2\n",
            "Ingreso mensual: 2500\n",
            "Crédito Rechazado!!\n",
            "\n",
            "\n",
            "Nombre: Juan Perez\n",
            "Edad: 18\n",
            "Antigüedad: 3\n",
            "Ingreso mensual: 2500\n",
            "Crédito aprobado\n",
            "\n",
            "\n",
            "Nombre: Juan Perez\n",
            "Edad: 18\n",
            "Antigüedad: 2\n",
            "Ingreso mensual: 4000\n",
            "Credito aprobado!!\n",
            "\n"
          ]
        }
      ]
    }
  ]
}